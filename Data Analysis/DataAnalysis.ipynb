{
  "nbformat": 4,
  "nbformat_minor": 0,
  "metadata": {
    "colab": {
      "provenance": []
    },
    "kernelspec": {
      "name": "python3",
      "display_name": "Python 3"
    },
    "language_info": {
      "name": "python"
    }
  },
  "cells": [
    {
      "cell_type": "code",
      "execution_count": 1,
      "metadata": {
        "id": "_Ldbf7aJr3tW"
      },
      "outputs": [],
      "source": [
        "import numpy as np\n",
        "import matplotlib.pyplot as plt\n",
        "import seaborn as sns\n",
        "import scipy\n",
        "import pandas as pd\n",
        "from scipy.stats import pearsonr"
      ]
    },
    {
      "cell_type": "code",
      "source": [
        "# Import data\n",
        "data = pd.read_csv(\"./DataEncoding.csv\")\n",
        "data.head()"
      ],
      "metadata": {
        "colab": {
          "base_uri": "https://localhost:8080/",
          "height": 339
        },
        "id": "g-5Y3M71r_Zk",
        "outputId": "85e4d9d1-6183-4de1-f879-3780fa62ce88"
      },
      "execution_count": 2,
      "outputs": [
        {
          "output_type": "execute_result",
          "data": {
            "text/plain": [
              "   Unnamed: 0              Name  Age  TEA_consumption  Coffee_consumption  \\\n",
              "0           0           Yagnesh    2                1                   0   \n",
              "1           1  Omikumar Makadia    0                2                   3   \n",
              "2           2      Devyash Shah    0                0                   2   \n",
              "3           3          Om Shah     2                2                   2   \n",
              "4           4      Sarthak dave    0                3                   3   \n",
              "\n",
              "   EnergyDrinks_consumption  SoftDrinks_consumption  Milk_consumption  \\\n",
              "0                         0                       0                 1   \n",
              "1                         0                       1                 1   \n",
              "2                         0                       1                 0   \n",
              "3                         0                       0                 1   \n",
              "4                         1                       1                 1   \n",
              "\n",
              "   Juices_consumption  TEA_sleepingPattern  Coffee_sleepingPattern  \\\n",
              "0                   0                    3                       3   \n",
              "1                   0                    2                       3   \n",
              "2                   1                    0                       2   \n",
              "3                   1                    3                       3   \n",
              "4                   0                    2                       2   \n",
              "\n",
              "   EnergyDrinks_sleepingPattern  SoftDrinks_sleepingPattern  \\\n",
              "0                             2                           2   \n",
              "1                             3                           2   \n",
              "2                             2                           2   \n",
              "3                             0                           0   \n",
              "4                             2                           2   \n",
              "\n",
              "   Milk_sleepingPattern  Juices_sleepingPattern  SleepingSchedule  \\\n",
              "0                     2                       2                 2   \n",
              "1                     2                       2                 2   \n",
              "2                     2                       2                 1   \n",
              "3                     2                       2                 4   \n",
              "4                     1                       2                 2   \n",
              "\n",
              "   BeveragesAfftectingSleep  \n",
              "0                         1  \n",
              "1                         1  \n",
              "2                         0  \n",
              "3                         0  \n",
              "4                         0  "
            ],
            "text/html": [
              "\n",
              "  <div id=\"df-c582a733-0c6f-4d50-86ae-9c2007c6bfbf\">\n",
              "    <div class=\"colab-df-container\">\n",
              "      <div>\n",
              "<style scoped>\n",
              "    .dataframe tbody tr th:only-of-type {\n",
              "        vertical-align: middle;\n",
              "    }\n",
              "\n",
              "    .dataframe tbody tr th {\n",
              "        vertical-align: top;\n",
              "    }\n",
              "\n",
              "    .dataframe thead th {\n",
              "        text-align: right;\n",
              "    }\n",
              "</style>\n",
              "<table border=\"1\" class=\"dataframe\">\n",
              "  <thead>\n",
              "    <tr style=\"text-align: right;\">\n",
              "      <th></th>\n",
              "      <th>Unnamed: 0</th>\n",
              "      <th>Name</th>\n",
              "      <th>Age</th>\n",
              "      <th>TEA_consumption</th>\n",
              "      <th>Coffee_consumption</th>\n",
              "      <th>EnergyDrinks_consumption</th>\n",
              "      <th>SoftDrinks_consumption</th>\n",
              "      <th>Milk_consumption</th>\n",
              "      <th>Juices_consumption</th>\n",
              "      <th>TEA_sleepingPattern</th>\n",
              "      <th>Coffee_sleepingPattern</th>\n",
              "      <th>EnergyDrinks_sleepingPattern</th>\n",
              "      <th>SoftDrinks_sleepingPattern</th>\n",
              "      <th>Milk_sleepingPattern</th>\n",
              "      <th>Juices_sleepingPattern</th>\n",
              "      <th>SleepingSchedule</th>\n",
              "      <th>BeveragesAfftectingSleep</th>\n",
              "    </tr>\n",
              "  </thead>\n",
              "  <tbody>\n",
              "    <tr>\n",
              "      <th>0</th>\n",
              "      <td>0</td>\n",
              "      <td>Yagnesh</td>\n",
              "      <td>2</td>\n",
              "      <td>1</td>\n",
              "      <td>0</td>\n",
              "      <td>0</td>\n",
              "      <td>0</td>\n",
              "      <td>1</td>\n",
              "      <td>0</td>\n",
              "      <td>3</td>\n",
              "      <td>3</td>\n",
              "      <td>2</td>\n",
              "      <td>2</td>\n",
              "      <td>2</td>\n",
              "      <td>2</td>\n",
              "      <td>2</td>\n",
              "      <td>1</td>\n",
              "    </tr>\n",
              "    <tr>\n",
              "      <th>1</th>\n",
              "      <td>1</td>\n",
              "      <td>Omikumar Makadia</td>\n",
              "      <td>0</td>\n",
              "      <td>2</td>\n",
              "      <td>3</td>\n",
              "      <td>0</td>\n",
              "      <td>1</td>\n",
              "      <td>1</td>\n",
              "      <td>0</td>\n",
              "      <td>2</td>\n",
              "      <td>3</td>\n",
              "      <td>3</td>\n",
              "      <td>2</td>\n",
              "      <td>2</td>\n",
              "      <td>2</td>\n",
              "      <td>2</td>\n",
              "      <td>1</td>\n",
              "    </tr>\n",
              "    <tr>\n",
              "      <th>2</th>\n",
              "      <td>2</td>\n",
              "      <td>Devyash Shah</td>\n",
              "      <td>0</td>\n",
              "      <td>0</td>\n",
              "      <td>2</td>\n",
              "      <td>0</td>\n",
              "      <td>1</td>\n",
              "      <td>0</td>\n",
              "      <td>1</td>\n",
              "      <td>0</td>\n",
              "      <td>2</td>\n",
              "      <td>2</td>\n",
              "      <td>2</td>\n",
              "      <td>2</td>\n",
              "      <td>2</td>\n",
              "      <td>1</td>\n",
              "      <td>0</td>\n",
              "    </tr>\n",
              "    <tr>\n",
              "      <th>3</th>\n",
              "      <td>3</td>\n",
              "      <td>Om Shah</td>\n",
              "      <td>2</td>\n",
              "      <td>2</td>\n",
              "      <td>2</td>\n",
              "      <td>0</td>\n",
              "      <td>0</td>\n",
              "      <td>1</td>\n",
              "      <td>1</td>\n",
              "      <td>3</td>\n",
              "      <td>3</td>\n",
              "      <td>0</td>\n",
              "      <td>0</td>\n",
              "      <td>2</td>\n",
              "      <td>2</td>\n",
              "      <td>4</td>\n",
              "      <td>0</td>\n",
              "    </tr>\n",
              "    <tr>\n",
              "      <th>4</th>\n",
              "      <td>4</td>\n",
              "      <td>Sarthak dave</td>\n",
              "      <td>0</td>\n",
              "      <td>3</td>\n",
              "      <td>3</td>\n",
              "      <td>1</td>\n",
              "      <td>1</td>\n",
              "      <td>1</td>\n",
              "      <td>0</td>\n",
              "      <td>2</td>\n",
              "      <td>2</td>\n",
              "      <td>2</td>\n",
              "      <td>2</td>\n",
              "      <td>1</td>\n",
              "      <td>2</td>\n",
              "      <td>2</td>\n",
              "      <td>0</td>\n",
              "    </tr>\n",
              "  </tbody>\n",
              "</table>\n",
              "</div>\n",
              "      <button class=\"colab-df-convert\" onclick=\"convertToInteractive('df-c582a733-0c6f-4d50-86ae-9c2007c6bfbf')\"\n",
              "              title=\"Convert this dataframe to an interactive table.\"\n",
              "              style=\"display:none;\">\n",
              "        \n",
              "  <svg xmlns=\"http://www.w3.org/2000/svg\" height=\"24px\"viewBox=\"0 0 24 24\"\n",
              "       width=\"24px\">\n",
              "    <path d=\"M0 0h24v24H0V0z\" fill=\"none\"/>\n",
              "    <path d=\"M18.56 5.44l.94 2.06.94-2.06 2.06-.94-2.06-.94-.94-2.06-.94 2.06-2.06.94zm-11 1L8.5 8.5l.94-2.06 2.06-.94-2.06-.94L8.5 2.5l-.94 2.06-2.06.94zm10 10l.94 2.06.94-2.06 2.06-.94-2.06-.94-.94-2.06-.94 2.06-2.06.94z\"/><path d=\"M17.41 7.96l-1.37-1.37c-.4-.4-.92-.59-1.43-.59-.52 0-1.04.2-1.43.59L10.3 9.45l-7.72 7.72c-.78.78-.78 2.05 0 2.83L4 21.41c.39.39.9.59 1.41.59.51 0 1.02-.2 1.41-.59l7.78-7.78 2.81-2.81c.8-.78.8-2.07 0-2.86zM5.41 20L4 18.59l7.72-7.72 1.47 1.35L5.41 20z\"/>\n",
              "  </svg>\n",
              "      </button>\n",
              "      \n",
              "  <style>\n",
              "    .colab-df-container {\n",
              "      display:flex;\n",
              "      flex-wrap:wrap;\n",
              "      gap: 12px;\n",
              "    }\n",
              "\n",
              "    .colab-df-convert {\n",
              "      background-color: #E8F0FE;\n",
              "      border: none;\n",
              "      border-radius: 50%;\n",
              "      cursor: pointer;\n",
              "      display: none;\n",
              "      fill: #1967D2;\n",
              "      height: 32px;\n",
              "      padding: 0 0 0 0;\n",
              "      width: 32px;\n",
              "    }\n",
              "\n",
              "    .colab-df-convert:hover {\n",
              "      background-color: #E2EBFA;\n",
              "      box-shadow: 0px 1px 2px rgba(60, 64, 67, 0.3), 0px 1px 3px 1px rgba(60, 64, 67, 0.15);\n",
              "      fill: #174EA6;\n",
              "    }\n",
              "\n",
              "    [theme=dark] .colab-df-convert {\n",
              "      background-color: #3B4455;\n",
              "      fill: #D2E3FC;\n",
              "    }\n",
              "\n",
              "    [theme=dark] .colab-df-convert:hover {\n",
              "      background-color: #434B5C;\n",
              "      box-shadow: 0px 1px 3px 1px rgba(0, 0, 0, 0.15);\n",
              "      filter: drop-shadow(0px 1px 2px rgba(0, 0, 0, 0.3));\n",
              "      fill: #FFFFFF;\n",
              "    }\n",
              "  </style>\n",
              "\n",
              "      <script>\n",
              "        const buttonEl =\n",
              "          document.querySelector('#df-c582a733-0c6f-4d50-86ae-9c2007c6bfbf button.colab-df-convert');\n",
              "        buttonEl.style.display =\n",
              "          google.colab.kernel.accessAllowed ? 'block' : 'none';\n",
              "\n",
              "        async function convertToInteractive(key) {\n",
              "          const element = document.querySelector('#df-c582a733-0c6f-4d50-86ae-9c2007c6bfbf');\n",
              "          const dataTable =\n",
              "            await google.colab.kernel.invokeFunction('convertToInteractive',\n",
              "                                                     [key], {});\n",
              "          if (!dataTable) return;\n",
              "\n",
              "          const docLinkHtml = 'Like what you see? Visit the ' +\n",
              "            '<a target=\"_blank\" href=https://colab.research.google.com/notebooks/data_table.ipynb>data table notebook</a>'\n",
              "            + ' to learn more about interactive tables.';\n",
              "          element.innerHTML = '';\n",
              "          dataTable['output_type'] = 'display_data';\n",
              "          await google.colab.output.renderOutput(dataTable, element);\n",
              "          const docLink = document.createElement('div');\n",
              "          docLink.innerHTML = docLinkHtml;\n",
              "          element.appendChild(docLink);\n",
              "        }\n",
              "      </script>\n",
              "    </div>\n",
              "  </div>\n",
              "  "
            ]
          },
          "metadata": {},
          "execution_count": 2
        }
      ]
    },
    {
      "cell_type": "code",
      "source": [
        "data.head()"
      ],
      "metadata": {
        "colab": {
          "base_uri": "https://localhost:8080/",
          "height": 339
        },
        "id": "Cz5rqnizsH4b",
        "outputId": "49750933-bef9-4754-f36c-0e4dd141ec71"
      },
      "execution_count": 3,
      "outputs": [
        {
          "output_type": "execute_result",
          "data": {
            "text/plain": [
              "   Unnamed: 0              Name  Age  TEA_consumption  Coffee_consumption  \\\n",
              "0           0           Yagnesh    2                1                   0   \n",
              "1           1  Omikumar Makadia    0                2                   3   \n",
              "2           2      Devyash Shah    0                0                   2   \n",
              "3           3          Om Shah     2                2                   2   \n",
              "4           4      Sarthak dave    0                3                   3   \n",
              "\n",
              "   EnergyDrinks_consumption  SoftDrinks_consumption  Milk_consumption  \\\n",
              "0                         0                       0                 1   \n",
              "1                         0                       1                 1   \n",
              "2                         0                       1                 0   \n",
              "3                         0                       0                 1   \n",
              "4                         1                       1                 1   \n",
              "\n",
              "   Juices_consumption  TEA_sleepingPattern  Coffee_sleepingPattern  \\\n",
              "0                   0                    3                       3   \n",
              "1                   0                    2                       3   \n",
              "2                   1                    0                       2   \n",
              "3                   1                    3                       3   \n",
              "4                   0                    2                       2   \n",
              "\n",
              "   EnergyDrinks_sleepingPattern  SoftDrinks_sleepingPattern  \\\n",
              "0                             2                           2   \n",
              "1                             3                           2   \n",
              "2                             2                           2   \n",
              "3                             0                           0   \n",
              "4                             2                           2   \n",
              "\n",
              "   Milk_sleepingPattern  Juices_sleepingPattern  SleepingSchedule  \\\n",
              "0                     2                       2                 2   \n",
              "1                     2                       2                 2   \n",
              "2                     2                       2                 1   \n",
              "3                     2                       2                 4   \n",
              "4                     1                       2                 2   \n",
              "\n",
              "   BeveragesAfftectingSleep  \n",
              "0                         1  \n",
              "1                         1  \n",
              "2                         0  \n",
              "3                         0  \n",
              "4                         0  "
            ],
            "text/html": [
              "\n",
              "  <div id=\"df-744f51f3-a67a-4b56-94af-9948790a6695\">\n",
              "    <div class=\"colab-df-container\">\n",
              "      <div>\n",
              "<style scoped>\n",
              "    .dataframe tbody tr th:only-of-type {\n",
              "        vertical-align: middle;\n",
              "    }\n",
              "\n",
              "    .dataframe tbody tr th {\n",
              "        vertical-align: top;\n",
              "    }\n",
              "\n",
              "    .dataframe thead th {\n",
              "        text-align: right;\n",
              "    }\n",
              "</style>\n",
              "<table border=\"1\" class=\"dataframe\">\n",
              "  <thead>\n",
              "    <tr style=\"text-align: right;\">\n",
              "      <th></th>\n",
              "      <th>Unnamed: 0</th>\n",
              "      <th>Name</th>\n",
              "      <th>Age</th>\n",
              "      <th>TEA_consumption</th>\n",
              "      <th>Coffee_consumption</th>\n",
              "      <th>EnergyDrinks_consumption</th>\n",
              "      <th>SoftDrinks_consumption</th>\n",
              "      <th>Milk_consumption</th>\n",
              "      <th>Juices_consumption</th>\n",
              "      <th>TEA_sleepingPattern</th>\n",
              "      <th>Coffee_sleepingPattern</th>\n",
              "      <th>EnergyDrinks_sleepingPattern</th>\n",
              "      <th>SoftDrinks_sleepingPattern</th>\n",
              "      <th>Milk_sleepingPattern</th>\n",
              "      <th>Juices_sleepingPattern</th>\n",
              "      <th>SleepingSchedule</th>\n",
              "      <th>BeveragesAfftectingSleep</th>\n",
              "    </tr>\n",
              "  </thead>\n",
              "  <tbody>\n",
              "    <tr>\n",
              "      <th>0</th>\n",
              "      <td>0</td>\n",
              "      <td>Yagnesh</td>\n",
              "      <td>2</td>\n",
              "      <td>1</td>\n",
              "      <td>0</td>\n",
              "      <td>0</td>\n",
              "      <td>0</td>\n",
              "      <td>1</td>\n",
              "      <td>0</td>\n",
              "      <td>3</td>\n",
              "      <td>3</td>\n",
              "      <td>2</td>\n",
              "      <td>2</td>\n",
              "      <td>2</td>\n",
              "      <td>2</td>\n",
              "      <td>2</td>\n",
              "      <td>1</td>\n",
              "    </tr>\n",
              "    <tr>\n",
              "      <th>1</th>\n",
              "      <td>1</td>\n",
              "      <td>Omikumar Makadia</td>\n",
              "      <td>0</td>\n",
              "      <td>2</td>\n",
              "      <td>3</td>\n",
              "      <td>0</td>\n",
              "      <td>1</td>\n",
              "      <td>1</td>\n",
              "      <td>0</td>\n",
              "      <td>2</td>\n",
              "      <td>3</td>\n",
              "      <td>3</td>\n",
              "      <td>2</td>\n",
              "      <td>2</td>\n",
              "      <td>2</td>\n",
              "      <td>2</td>\n",
              "      <td>1</td>\n",
              "    </tr>\n",
              "    <tr>\n",
              "      <th>2</th>\n",
              "      <td>2</td>\n",
              "      <td>Devyash Shah</td>\n",
              "      <td>0</td>\n",
              "      <td>0</td>\n",
              "      <td>2</td>\n",
              "      <td>0</td>\n",
              "      <td>1</td>\n",
              "      <td>0</td>\n",
              "      <td>1</td>\n",
              "      <td>0</td>\n",
              "      <td>2</td>\n",
              "      <td>2</td>\n",
              "      <td>2</td>\n",
              "      <td>2</td>\n",
              "      <td>2</td>\n",
              "      <td>1</td>\n",
              "      <td>0</td>\n",
              "    </tr>\n",
              "    <tr>\n",
              "      <th>3</th>\n",
              "      <td>3</td>\n",
              "      <td>Om Shah</td>\n",
              "      <td>2</td>\n",
              "      <td>2</td>\n",
              "      <td>2</td>\n",
              "      <td>0</td>\n",
              "      <td>0</td>\n",
              "      <td>1</td>\n",
              "      <td>1</td>\n",
              "      <td>3</td>\n",
              "      <td>3</td>\n",
              "      <td>0</td>\n",
              "      <td>0</td>\n",
              "      <td>2</td>\n",
              "      <td>2</td>\n",
              "      <td>4</td>\n",
              "      <td>0</td>\n",
              "    </tr>\n",
              "    <tr>\n",
              "      <th>4</th>\n",
              "      <td>4</td>\n",
              "      <td>Sarthak dave</td>\n",
              "      <td>0</td>\n",
              "      <td>3</td>\n",
              "      <td>3</td>\n",
              "      <td>1</td>\n",
              "      <td>1</td>\n",
              "      <td>1</td>\n",
              "      <td>0</td>\n",
              "      <td>2</td>\n",
              "      <td>2</td>\n",
              "      <td>2</td>\n",
              "      <td>2</td>\n",
              "      <td>1</td>\n",
              "      <td>2</td>\n",
              "      <td>2</td>\n",
              "      <td>0</td>\n",
              "    </tr>\n",
              "  </tbody>\n",
              "</table>\n",
              "</div>\n",
              "      <button class=\"colab-df-convert\" onclick=\"convertToInteractive('df-744f51f3-a67a-4b56-94af-9948790a6695')\"\n",
              "              title=\"Convert this dataframe to an interactive table.\"\n",
              "              style=\"display:none;\">\n",
              "        \n",
              "  <svg xmlns=\"http://www.w3.org/2000/svg\" height=\"24px\"viewBox=\"0 0 24 24\"\n",
              "       width=\"24px\">\n",
              "    <path d=\"M0 0h24v24H0V0z\" fill=\"none\"/>\n",
              "    <path d=\"M18.56 5.44l.94 2.06.94-2.06 2.06-.94-2.06-.94-.94-2.06-.94 2.06-2.06.94zm-11 1L8.5 8.5l.94-2.06 2.06-.94-2.06-.94L8.5 2.5l-.94 2.06-2.06.94zm10 10l.94 2.06.94-2.06 2.06-.94-2.06-.94-.94-2.06-.94 2.06-2.06.94z\"/><path d=\"M17.41 7.96l-1.37-1.37c-.4-.4-.92-.59-1.43-.59-.52 0-1.04.2-1.43.59L10.3 9.45l-7.72 7.72c-.78.78-.78 2.05 0 2.83L4 21.41c.39.39.9.59 1.41.59.51 0 1.02-.2 1.41-.59l7.78-7.78 2.81-2.81c.8-.78.8-2.07 0-2.86zM5.41 20L4 18.59l7.72-7.72 1.47 1.35L5.41 20z\"/>\n",
              "  </svg>\n",
              "      </button>\n",
              "      \n",
              "  <style>\n",
              "    .colab-df-container {\n",
              "      display:flex;\n",
              "      flex-wrap:wrap;\n",
              "      gap: 12px;\n",
              "    }\n",
              "\n",
              "    .colab-df-convert {\n",
              "      background-color: #E8F0FE;\n",
              "      border: none;\n",
              "      border-radius: 50%;\n",
              "      cursor: pointer;\n",
              "      display: none;\n",
              "      fill: #1967D2;\n",
              "      height: 32px;\n",
              "      padding: 0 0 0 0;\n",
              "      width: 32px;\n",
              "    }\n",
              "\n",
              "    .colab-df-convert:hover {\n",
              "      background-color: #E2EBFA;\n",
              "      box-shadow: 0px 1px 2px rgba(60, 64, 67, 0.3), 0px 1px 3px 1px rgba(60, 64, 67, 0.15);\n",
              "      fill: #174EA6;\n",
              "    }\n",
              "\n",
              "    [theme=dark] .colab-df-convert {\n",
              "      background-color: #3B4455;\n",
              "      fill: #D2E3FC;\n",
              "    }\n",
              "\n",
              "    [theme=dark] .colab-df-convert:hover {\n",
              "      background-color: #434B5C;\n",
              "      box-shadow: 0px 1px 3px 1px rgba(0, 0, 0, 0.15);\n",
              "      filter: drop-shadow(0px 1px 2px rgba(0, 0, 0, 0.3));\n",
              "      fill: #FFFFFF;\n",
              "    }\n",
              "  </style>\n",
              "\n",
              "      <script>\n",
              "        const buttonEl =\n",
              "          document.querySelector('#df-744f51f3-a67a-4b56-94af-9948790a6695 button.colab-df-convert');\n",
              "        buttonEl.style.display =\n",
              "          google.colab.kernel.accessAllowed ? 'block' : 'none';\n",
              "\n",
              "        async function convertToInteractive(key) {\n",
              "          const element = document.querySelector('#df-744f51f3-a67a-4b56-94af-9948790a6695');\n",
              "          const dataTable =\n",
              "            await google.colab.kernel.invokeFunction('convertToInteractive',\n",
              "                                                     [key], {});\n",
              "          if (!dataTable) return;\n",
              "\n",
              "          const docLinkHtml = 'Like what you see? Visit the ' +\n",
              "            '<a target=\"_blank\" href=https://colab.research.google.com/notebooks/data_table.ipynb>data table notebook</a>'\n",
              "            + ' to learn more about interactive tables.';\n",
              "          element.innerHTML = '';\n",
              "          dataTable['output_type'] = 'display_data';\n",
              "          await google.colab.output.renderOutput(dataTable, element);\n",
              "          const docLink = document.createElement('div');\n",
              "          docLink.innerHTML = docLinkHtml;\n",
              "          element.appendChild(docLink);\n",
              "        }\n",
              "      </script>\n",
              "    </div>\n",
              "  </div>\n",
              "  "
            ]
          },
          "metadata": {},
          "execution_count": 3
        }
      ]
    },
    {
      "cell_type": "markdown",
      "source": [
        "# Correlation"
      ],
      "metadata": {
        "id": "DQx2vxYDsV9t"
      }
    },
    {
      "cell_type": "code",
      "source": [
        "data = data.iloc[:,1:]"
      ],
      "metadata": {
        "id": "NTnVV3fYsJcd"
      },
      "execution_count": 4,
      "outputs": []
    },
    {
      "cell_type": "code",
      "source": [
        "corr_matrix = data.corr()\n",
        "print(corr_matrix)"
      ],
      "metadata": {
        "colab": {
          "base_uri": "https://localhost:8080/"
        },
        "id": "gdY35NCHsby5",
        "outputId": "83acaaed-cbd8-4fa9-c93d-a24239d117ba"
      },
      "execution_count": 5,
      "outputs": [
        {
          "output_type": "stream",
          "name": "stdout",
          "text": [
            "                                   Age  TEA_consumption  Coffee_consumption  \\\n",
            "Age                           1.000000         0.209984           -0.084707   \n",
            "TEA_consumption               0.209984         1.000000            0.091706   \n",
            "Coffee_consumption           -0.084707         0.091706            1.000000   \n",
            "EnergyDrinks_consumption      0.144648         0.219100            0.182431   \n",
            "SoftDrinks_consumption        0.052524         0.165072            0.189876   \n",
            "Milk_consumption             -0.294904         0.076477            0.320673   \n",
            "Juices_consumption           -0.138319        -0.119597            0.067954   \n",
            "TEA_sleepingPattern           0.215516         0.741805           -0.053426   \n",
            "Coffee_sleepingPattern        0.013524        -0.052482            0.645728   \n",
            "EnergyDrinks_sleepingPattern  0.127695         0.051496            0.157804   \n",
            "SoftDrinks_sleepingPattern   -0.015811         0.117686           -0.031355   \n",
            "Milk_sleepingPattern         -0.178668         0.058810            0.089352   \n",
            "Juices_sleepingPattern       -0.109836        -0.139459            0.032520   \n",
            "SleepingSchedule              0.044281         0.081697           -0.114837   \n",
            "BeveragesAfftectingSleep      0.162484         0.137403            0.283131   \n",
            "\n",
            "                              EnergyDrinks_consumption  \\\n",
            "Age                                           0.144648   \n",
            "TEA_consumption                               0.219100   \n",
            "Coffee_consumption                            0.182431   \n",
            "EnergyDrinks_consumption                      1.000000   \n",
            "SoftDrinks_consumption                        0.412449   \n",
            "Milk_consumption                              0.101923   \n",
            "Juices_consumption                            0.222966   \n",
            "TEA_sleepingPattern                           0.036529   \n",
            "Coffee_sleepingPattern                        0.112518   \n",
            "EnergyDrinks_sleepingPattern                  0.495885   \n",
            "SoftDrinks_sleepingPattern                    0.084105   \n",
            "Milk_sleepingPattern                          0.039203   \n",
            "Juices_sleepingPattern                        0.002743   \n",
            "SleepingSchedule                             -0.102676   \n",
            "BeveragesAfftectingSleep                      0.249264   \n",
            "\n",
            "                              SoftDrinks_consumption  Milk_consumption  \\\n",
            "Age                                         0.052524         -0.294904   \n",
            "TEA_consumption                             0.165072          0.076477   \n",
            "Coffee_consumption                          0.189876          0.320673   \n",
            "EnergyDrinks_consumption                    0.412449          0.101923   \n",
            "SoftDrinks_consumption                      1.000000          0.456235   \n",
            "Milk_consumption                            0.456235          1.000000   \n",
            "Juices_consumption                          0.553292          0.574287   \n",
            "TEA_sleepingPattern                        -0.044107         -0.070213   \n",
            "Coffee_sleepingPattern                      0.008516          0.058146   \n",
            "EnergyDrinks_sleepingPattern                0.374941          0.024459   \n",
            "SoftDrinks_sleepingPattern                  0.560866          0.129329   \n",
            "Milk_sleepingPattern                        0.047939          0.346224   \n",
            "Juices_sleepingPattern                      0.255814          0.149741   \n",
            "SleepingSchedule                           -0.206344          0.009287   \n",
            "BeveragesAfftectingSleep                    0.140486          0.024889   \n",
            "\n",
            "                              Juices_consumption  TEA_sleepingPattern  \\\n",
            "Age                                    -0.138319         2.155163e-01   \n",
            "TEA_consumption                        -0.119597         7.418048e-01   \n",
            "Coffee_consumption                      0.067954        -5.342558e-02   \n",
            "EnergyDrinks_consumption                0.222966         3.652853e-02   \n",
            "SoftDrinks_consumption                  0.553292        -4.410677e-02   \n",
            "Milk_consumption                        0.574287        -7.021306e-02   \n",
            "Juices_consumption                      1.000000        -2.296272e-01   \n",
            "TEA_sleepingPattern                    -0.229627         1.000000e+00   \n",
            "Coffee_sleepingPattern                  0.087411        -2.338058e-02   \n",
            "EnergyDrinks_sleepingPattern            0.153827         2.006995e-02   \n",
            "SoftDrinks_sleepingPattern              0.325356        -1.365654e-17   \n",
            "Milk_sleepingPattern                    0.062507         5.475408e-02   \n",
            "Juices_sleepingPattern                  0.416498        -1.150066e-01   \n",
            "SleepingSchedule                       -0.116823         1.884473e-01   \n",
            "BeveragesAfftectingSleep                0.081399         1.262546e-01   \n",
            "\n",
            "                              Coffee_sleepingPattern  \\\n",
            "Age                                         0.013524   \n",
            "TEA_consumption                            -0.052482   \n",
            "Coffee_consumption                          0.645728   \n",
            "EnergyDrinks_consumption                    0.112518   \n",
            "SoftDrinks_consumption                      0.008516   \n",
            "Milk_consumption                            0.058146   \n",
            "Juices_consumption                          0.087411   \n",
            "TEA_sleepingPattern                        -0.023381   \n",
            "Coffee_sleepingPattern                      1.000000   \n",
            "EnergyDrinks_sleepingPattern                0.070666   \n",
            "SoftDrinks_sleepingPattern                 -0.077758   \n",
            "Milk_sleepingPattern                        0.072565   \n",
            "Juices_sleepingPattern                      0.152749   \n",
            "SleepingSchedule                           -0.181695   \n",
            "BeveragesAfftectingSleep                    0.275577   \n",
            "\n",
            "                              EnergyDrinks_sleepingPattern  \\\n",
            "Age                                               0.127695   \n",
            "TEA_consumption                                   0.051496   \n",
            "Coffee_consumption                                0.157804   \n",
            "EnergyDrinks_consumption                          0.495885   \n",
            "SoftDrinks_consumption                            0.374941   \n",
            "Milk_consumption                                  0.024459   \n",
            "Juices_consumption                                0.153827   \n",
            "TEA_sleepingPattern                               0.020070   \n",
            "Coffee_sleepingPattern                            0.070666   \n",
            "EnergyDrinks_sleepingPattern                      1.000000   \n",
            "SoftDrinks_sleepingPattern                        0.321602   \n",
            "Milk_sleepingPattern                             -0.017200   \n",
            "Juices_sleepingPattern                            0.233331   \n",
            "SleepingSchedule                                 -0.215700   \n",
            "BeveragesAfftectingSleep                          0.254343   \n",
            "\n",
            "                              SoftDrinks_sleepingPattern  \\\n",
            "Age                                        -1.581073e-02   \n",
            "TEA_consumption                             1.176864e-01   \n",
            "Coffee_consumption                         -3.135531e-02   \n",
            "EnergyDrinks_consumption                    8.410480e-02   \n",
            "SoftDrinks_consumption                      5.608661e-01   \n",
            "Milk_consumption                            1.293292e-01   \n",
            "Juices_consumption                          3.253558e-01   \n",
            "TEA_sleepingPattern                        -1.365654e-17   \n",
            "Coffee_sleepingPattern                     -7.775793e-02   \n",
            "EnergyDrinks_sleepingPattern                3.216022e-01   \n",
            "SoftDrinks_sleepingPattern                  1.000000e+00   \n",
            "Milk_sleepingPattern                        9.276707e-02   \n",
            "Juices_sleepingPattern                      4.892224e-01   \n",
            "SleepingSchedule                           -2.154379e-01   \n",
            "BeveragesAfftectingSleep                    1.574592e-01   \n",
            "\n",
            "                              Milk_sleepingPattern  Juices_sleepingPattern  \\\n",
            "Age                                      -0.178668               -0.109836   \n",
            "TEA_consumption                           0.058810               -0.139459   \n",
            "Coffee_consumption                        0.089352                0.032520   \n",
            "EnergyDrinks_consumption                  0.039203                0.002743   \n",
            "SoftDrinks_consumption                    0.047939                0.255814   \n",
            "Milk_consumption                          0.346224                0.149741   \n",
            "Juices_consumption                        0.062507                0.416498   \n",
            "TEA_sleepingPattern                       0.054754               -0.115007   \n",
            "Coffee_sleepingPattern                    0.072565                0.152749   \n",
            "EnergyDrinks_sleepingPattern             -0.017200                0.233331   \n",
            "SoftDrinks_sleepingPattern                0.092767                0.489222   \n",
            "Milk_sleepingPattern                      1.000000                0.228936   \n",
            "Juices_sleepingPattern                    0.228936                1.000000   \n",
            "SleepingSchedule                         -0.042192               -0.178217   \n",
            "BeveragesAfftectingSleep                  0.044037                0.003081   \n",
            "\n",
            "                              SleepingSchedule  BeveragesAfftectingSleep  \n",
            "Age                                   0.044281                  0.162484  \n",
            "TEA_consumption                       0.081697                  0.137403  \n",
            "Coffee_consumption                   -0.114837                  0.283131  \n",
            "EnergyDrinks_consumption             -0.102676                  0.249264  \n",
            "SoftDrinks_consumption               -0.206344                  0.140486  \n",
            "Milk_consumption                      0.009287                  0.024889  \n",
            "Juices_consumption                   -0.116823                  0.081399  \n",
            "TEA_sleepingPattern                   0.188447                  0.126255  \n",
            "Coffee_sleepingPattern               -0.181695                  0.275577  \n",
            "EnergyDrinks_sleepingPattern         -0.215700                  0.254343  \n",
            "SoftDrinks_sleepingPattern           -0.215438                  0.157459  \n",
            "Milk_sleepingPattern                 -0.042192                  0.044037  \n",
            "Juices_sleepingPattern               -0.178217                  0.003081  \n",
            "SleepingSchedule                      1.000000                 -0.115337  \n",
            "BeveragesAfftectingSleep             -0.115337                  1.000000  \n"
          ]
        },
        {
          "output_type": "stream",
          "name": "stderr",
          "text": [
            "<ipython-input-5-f50fb7f1b89e>:1: FutureWarning: The default value of numeric_only in DataFrame.corr is deprecated. In a future version, it will default to False. Select only valid columns or specify the value of numeric_only to silence this warning.\n",
            "  corr_matrix = data.corr()\n"
          ]
        }
      ]
    },
    {
      "cell_type": "code",
      "source": [
        "sns.heatmap(corr_matrix, cmap='viridis')\n",
        "\n",
        "# show the plot\n",
        "plt.show()"
      ],
      "metadata": {
        "colab": {
          "base_uri": "https://localhost:8080/",
          "height": 630
        },
        "id": "qM6okiixsg2W",
        "outputId": "30a8322f-7c89-45bb-85d6-c89f67bad97e"
      },
      "execution_count": 6,
      "outputs": [
        {
          "output_type": "display_data",
          "data": {
            "text/plain": [
              "<Figure size 640x480 with 2 Axes>"
            ],
            "image/png": "[encoded data removed]"
          },
          "metadata": {}
        }
      ]
    },
    {
      "cell_type": "code",
      "source": [
        "from scipy.stats import chi2_contingency\n",
        "\n",
        "# load data\n",
        "# data = pd.read_csv('data.csv')\n",
        "\n",
        "# create contingency table\n",
        "cont_table = pd.crosstab(data['BeveragesAfftectingSleep'], data['SleepingSchedule'])\n",
        "print(cont_table)\n",
        "\n",
        "# perform chi-squared test\n",
        "chi2_stat, p_val, dof, exp_freq = chi2_contingency(cont_table)\n",
        "print('Chi-Squared Statistic:', chi2_stat)\n",
        "print('p-value:', p_val)\n",
        "print('Degrees of Freedom:', dof)\n",
        "print('Expected:', exp_freq)"
      ],
      "metadata": {
        "colab": {
          "base_uri": "https://localhost:8080/"
        },
        "id": "w1runRXOs5Rk",
        "outputId": "fff39b9b-be7b-4b92-e0df-b0b8cd1e2e4d"
      },
      "execution_count": 7,
      "outputs": [
        {
          "output_type": "stream",
          "name": "stdout",
          "text": [
            "SleepingSchedule          0   1   2  3  4\n",
            "BeveragesAfftectingSleep                 \n",
            "0                         2  21  21  5  1\n",
            "1                         1  10  11  0  0\n",
            "Chi-Squared Statistic: 2.9132551319648092\n",
            "p-value: 0.5724453167385479\n",
            "Degrees of Freedom: 4\n",
            "Expected: [[ 2.08333333 21.52777778 22.22222222  3.47222222  0.69444444]\n",
            " [ 0.91666667  9.47222222  9.77777778  1.52777778  0.30555556]]\n"
          ]
        }
      ]
    },
    {
      "cell_type": "code",
      "source": [
        "contingency_table = pd.crosstab(data['TEA_consumption'], data['TEA_sleepingPattern'])\n",
        "\n",
        "# perform the chi-squared test\n",
        "stat, p, dof, expected = chi2_contingency(contingency_table)\n",
        "\n",
        "# print the results\n",
        "print('Chi-Squared Statistic: ', stat)\n",
        "print('p-value: ', p)\n",
        "print('Degrees of Freedom: ', dof)\n",
        "# print('Expected"
      ],
      "metadata": {
        "colab": {
          "base_uri": "https://localhost:8080/"
        },
        "id": "2ccfQqGTs7nw",
        "outputId": "0fbf96d5-0122-4aaa-9692-19c417146326"
      },
      "execution_count": 8,
      "outputs": [
        {
          "output_type": "stream",
          "name": "stdout",
          "text": [
            "Chi-Squared Statistic:  66.88351648351647\n",
            "p-value:  1.2205201447035471e-09\n",
            "Degrees of Freedom:  12\n"
          ]
        }
      ]
    },
    {
      "cell_type": "code",
      "source": [
        "contingency_table = pd.crosstab(data['Coffee_consumption'], data['Coffee_sleepingPattern'])\n",
        "\n",
        "# perform the chi-squared test\n",
        "stat, p, dof, expected = chi2_contingency(contingency_table)\n",
        "\n",
        "# print the results\n",
        "print('Chi-Squared Statistic: ', stat)\n",
        "print('p-value: ', p)\n",
        "print('Degrees of Freedom: ', dof)\n",
        "# print('Expected"
      ],
      "metadata": {
        "colab": {
          "base_uri": "https://localhost:8080/"
        },
        "id": "fhzw2bW6s90t",
        "outputId": "312356a0-023b-4499-9448-97eeecc63256"
      },
      "execution_count": 9,
      "outputs": [
        {
          "output_type": "stream",
          "name": "stdout",
          "text": [
            "Chi-Squared Statistic:  57.30749264465512\n",
            "p-value:  6.955344980511283e-08\n",
            "Degrees of Freedom:  12\n"
          ]
        }
      ]
    },
    {
      "cell_type": "code",
      "source": [
        "contingency_table = pd.crosstab(data['EnergyDrinks_consumption'], data['EnergyDrinks_sleepingPattern'])\n",
        "\n",
        "# perform the chi-squared test\n",
        "stat, p, dof, expected = chi2_contingency(contingency_table)\n",
        "\n",
        "# print the results\n",
        "print('Chi-Squared Statistic: ', stat)\n",
        "print('p-value: ', p)\n",
        "print('Degrees of Freedom: ', dof)\n",
        "# print('Expected"
      ],
      "metadata": {
        "colab": {
          "base_uri": "https://localhost:8080/"
        },
        "id": "L0OAJL9zNhz4",
        "outputId": "6c8e0ff6-c718-474d-9c3e-2dcabf4a280a"
      },
      "execution_count": 22,
      "outputs": [
        {
          "output_type": "stream",
          "name": "stdout",
          "text": [
            "Chi-Squared Statistic:  45.67582929890622\n",
            "p-value:  3.4347079464854817e-08\n",
            "Degrees of Freedom:  6\n"
          ]
        }
      ]
    },
    {
      "cell_type": "code",
      "source": [
        "contingency_table = pd.crosstab(data['SoftDrinks_consumption'], data['SoftDrinks_sleepingPattern'])\n",
        "\n",
        "# perform the chi-squared test\n",
        "stat, p, dof, expected = chi2_contingency(contingency_table)\n",
        "\n",
        "# print the results\n",
        "print('Chi-Squared Statistic: ', stat)\n",
        "print('p-value: ', p)\n",
        "print('Degrees of Freedom: ', dof)\n",
        "# print('Expected"
      ],
      "metadata": {
        "colab": {
          "base_uri": "https://localhost:8080/"
        },
        "id": "ME92Dr-SNk8J",
        "outputId": "276885cc-055c-484d-a276-ac11d4c3c67a"
      },
      "execution_count": 23,
      "outputs": [
        {
          "output_type": "stream",
          "name": "stdout",
          "text": [
            "Chi-Squared Statistic:  51.24984582668793\n",
            "p-value:  6.264358113742697e-08\n",
            "Degrees of Freedom:  9\n"
          ]
        }
      ]
    },
    {
      "cell_type": "code",
      "source": [
        "contingency_table = pd.crosstab(data['Milk_consumption'], data['Milk_sleepingPattern'])\n",
        "\n",
        "# perform the chi-squared test\n",
        "stat, p, dof, expected = chi2_contingency(contingency_table)\n",
        "\n",
        "# print the results\n",
        "print('Chi-Squared Statistic: ', stat)\n",
        "print('p-value: ', p)\n",
        "print('Degrees of Freedom: ', dof)\n",
        "# print('Expected"
      ],
      "metadata": {
        "colab": {
          "base_uri": "https://localhost:8080/"
        },
        "id": "lU1fac11Nniz",
        "outputId": "147d99fe-0aa7-494a-e5cb-08af1f8cde35"
      },
      "execution_count": 24,
      "outputs": [
        {
          "output_type": "stream",
          "name": "stdout",
          "text": [
            "Chi-Squared Statistic:  43.03096555618295\n",
            "p-value:  0.0001557179143996847\n",
            "Degrees of Freedom:  15\n"
          ]
        }
      ]
    },
    {
      "cell_type": "code",
      "source": [
        "contingency_table = pd.crosstab(data['Juices_consumption'], data['Juices_sleepingPattern'])\n",
        "\n",
        "# perform the chi-squared test\n",
        "stat, p, dof, expected = chi2_contingency(contingency_table)\n",
        "\n",
        "# print the results\n",
        "print('Chi-Squared Statistic: ', stat)\n",
        "print('p-value: ', p)\n",
        "print('Degrees of Freedom: ', dof)\n",
        "# print('Expected"
      ],
      "metadata": {
        "colab": {
          "base_uri": "https://localhost:8080/"
        },
        "id": "A1T2Te_aNqci",
        "outputId": "fc4b1aab-fbec-40fe-ecd1-b591f0389cd3"
      },
      "execution_count": 25,
      "outputs": [
        {
          "output_type": "stream",
          "name": "stdout",
          "text": [
            "Chi-Squared Statistic:  31.636678200692046\n",
            "p-value:  0.0015740339313950063\n",
            "Degrees of Freedom:  12\n"
          ]
        }
      ]
    },
    {
      "cell_type": "code",
      "source": [
        "contingency_table = pd.crosstab(data['EnergyDrinks_sleepingPattern'], data['BeveragesAfftectingSleep'])\n",
        "\n",
        "# perform the chi-squared test\n",
        "stat, p, dof, expected = chi2_contingency(contingency_table)\n",
        "\n",
        "# print the results\n",
        "print('Chi-Squared Statistic: ', stat)\n",
        "print('p-value: ', p)\n",
        "print('Degrees of Freedom: ', dof)\n",
        "# print('Expected"
      ],
      "metadata": {
        "colab": {
          "base_uri": "https://localhost:8080/"
        },
        "id": "RXfBydoHs-2r",
        "outputId": "45211282-ad46-4d07-eba1-14148f2bdc02"
      },
      "execution_count": 10,
      "outputs": [
        {
          "output_type": "stream",
          "name": "stdout",
          "text": [
            "Chi-Squared Statistic:  5.379722822631914\n",
            "p-value:  0.14601214795318385\n",
            "Degrees of Freedom:  3\n"
          ]
        }
      ]
    },
    {
      "cell_type": "code",
      "source": [
        "contingency_table = pd.crosstab(data['SoftDrinks_sleepingPattern'], data['BeveragesAfftectingSleep'])\n",
        "\n",
        "# perform the chi-squared test\n",
        "stat, p, dof, expected = chi2_contingency(contingency_table)\n",
        "\n",
        "# print the results\n",
        "print('Chi-Squared Statistic: ', stat)\n",
        "print('p-value: ', p)\n",
        "print('Degrees of Freedom: ', dof)\n",
        "# print('Expected"
      ],
      "metadata": {
        "colab": {
          "base_uri": "https://localhost:8080/"
        },
        "id": "YJGdEjRctBmN",
        "outputId": "07949ef7-d151-4597-da6f-345bc83bb893"
      },
      "execution_count": 11,
      "outputs": [
        {
          "output_type": "stream",
          "name": "stdout",
          "text": [
            "Chi-Squared Statistic:  2.868976076555024\n",
            "p-value:  0.4122707312595201\n",
            "Degrees of Freedom:  3\n"
          ]
        }
      ]
    },
    {
      "cell_type": "code",
      "source": [
        "contingency_table = pd.crosstab(data['SoftDrinks_sleepingPattern'], data['BeveragesAfftectingSleep'])\n",
        "\n",
        "# perform the chi-squared test\n",
        "stat, p, dof, expected = chi2_contingency(contingency_table)\n",
        "\n",
        "# print the results\n",
        "print('Chi-Squared Statistic: ', stat)\n",
        "print('p-value: ', p)\n",
        "print('Degrees of Freedom: ', dof)\n",
        "print('Expected')"
      ],
      "metadata": {
        "colab": {
          "base_uri": "https://localhost:8080/"
        },
        "id": "VqX3TtcitDGN",
        "outputId": "d5c060bb-029f-43f7-bf57-8eb7a749bf6c"
      },
      "execution_count": 12,
      "outputs": [
        {
          "output_type": "stream",
          "name": "stdout",
          "text": [
            "Chi-Squared Statistic:  2.868976076555024\n",
            "p-value:  0.4122707312595201\n",
            "Degrees of Freedom:  3\n",
            "Expected\n"
          ]
        }
      ]
    },
    {
      "cell_type": "code",
      "source": [
        "from scipy.stats import chi2_contingency\n",
        "contingency_table = pd.crosstab(data['TEA_sleepingPattern'], data['BeveragesAfftectingSleep'])\n",
        "\n",
        "# perform the chi-squared test\n",
        "stat, p, dof, expected = chi2_contingency(contingency_table)\n",
        "\n",
        "# print the results\n",
        "print('Chi-Squared Statistic: ', stat)\n",
        "print('p-value: ', p)\n",
        "print('Degrees of Freedom: ', dof)"
      ],
      "metadata": {
        "colab": {
          "base_uri": "https://localhost:8080/"
        },
        "id": "39ADdrpTtE85",
        "outputId": "9f8cb399-bb40-4986-955a-09fc7216b0f2"
      },
      "execution_count": 13,
      "outputs": [
        {
          "output_type": "stream",
          "name": "stdout",
          "text": [
            "Chi-Squared Statistic:  5.212541058941058\n",
            "p-value:  0.1568792089761234\n",
            "Degrees of Freedom:  3\n"
          ]
        }
      ]
    },
    {
      "cell_type": "code",
      "source": [],
      "metadata": {
        "id": "0LLCE9KstJy_"
      },
      "execution_count": null,
      "outputs": []
    }
  ]
}